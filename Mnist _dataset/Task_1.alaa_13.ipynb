{
 "cells": [
  {
   "cell_type": "code",
   "execution_count": 38,
   "id": "b0105c66",
   "metadata": {},
   "outputs": [],
   "source": [
    "# Load libraries\n",
    "\n",
    "from sklearn.model_selection import cross_val_predict\n",
    "from sklearn.model_selection import train_test_split\n",
    "from sklearn.linear_model import SGDClassifier\n",
    "from sklearn.metrics import confusion_matrix\n",
    "from sklearn.datasets import fetch_openml\n",
    "import matplotlib.pyplot as plt"
   ]
  },
  {
   "cell_type": "code",
   "execution_count": 39,
   "id": "e3b0155e",
   "metadata": {},
   "outputs": [
    {
     "data": {
      "text/plain": [
       "dict_keys(['data', 'target', 'frame', 'categories', 'feature_names', 'target_names', 'DESCR', 'details', 'url'])"
      ]
     },
     "execution_count": 39,
     "metadata": {},
     "output_type": "execute_result"
    }
   ],
   "source": [
    "# Load the dataset\n",
    "mnist = fetch_openml('mnist_784', version=1, as_frame=False)\n",
    "mnist.keys()    # targets are of type string"
   ]
  },
  {
   "cell_type": "code",
   "execution_count": 50,
   "id": "5bdb1fec",
   "metadata": {},
   "outputs": [
    {
     "data": {
      "image/png": "[encoded data removed]",
      "text/plain": [
       "<Figure size 432x288 with 1 Axes>"
      ]
     },
     "metadata": {
      "needs_background": "light"
     },
     "output_type": "display_data"
    },
    {
     "data": {
      "image/png": "[encoded data removed]",
      "text/plain": [
       "<Figure size 432x288 with 1 Axes>"
      ]
     },
     "metadata": {
      "needs_background": "light"
     },
     "output_type": "display_data"
    },
    {
     "data": {
      "image/png": "[encoded data removed]",
      "text/plain": [
       "<Figure size 432x288 with 1 Axes>"
      ]
     },
     "metadata": {
      "needs_background": "light"
     },
     "output_type": "display_data"
    },
    {
     "data": {
      "image/png": "[encoded data removed]",
      "text/plain": [
       "<Figure size 432x288 with 1 Axes>"
      ]
     },
     "metadata": {
      "needs_background": "light"
     },
     "output_type": "display_data"
    },
    {
     "data": {
      "image/png": "[encoded data removed]",
      "text/plain": [
       "<Figure size 432x288 with 1 Axes>"
      ]
     },
     "metadata": {
      "needs_background": "light"
     },
     "output_type": "display_data"
    }
   ],
   "source": [
    "# Extracting data and target variables\n",
    "data, targets = mnist[\"data\"], mnist[\"target\"]   # data_shape : (70000, 784) & targets_shape :(70000,) \n",
    "\n",
    "# 5 examples from the mnist dataset\n",
    "\n",
    "#targets[7]        # \"3\"\n",
    "#targets [77]      # \"1\"\n",
    "#targets [777]     # \"8\"\n",
    "#targets[7776]     # \"2\"\n",
    "#targets [6777]    # \"7\"\n",
    "\n",
    "digits=[7,77,777,7776,6777]\n",
    "\n",
    "for i in range(5):\n",
    "    \n",
    "  digit=data[digits[i]].reshape(28, 28)\n",
    "  plt.imshow(digit)\n",
    "  plt.show()\n",
    "\n",
    "\n"
   ]
  },
  {
   "cell_type": "code",
   "execution_count": 4,
   "id": "f528ae03",
   "metadata": {},
   "outputs": [],
   "source": [
    "# Split the dataset into training and testing sets\n",
    "data_train, data_test, targets_train, targets_test = train_test_split(data, targets, test_size=0.2, random_state=1) \n"
   ]
  },
  {
   "cell_type": "code",
   "execution_count": 5,
   "id": "3df155cb",
   "metadata": {},
   "outputs": [],
   "source": [
    "# Target vectors for the classification\n",
    "targets_train_3 = (targets_train == \"3\")   # array of booleans  shape :(56000,)\n",
    "targets_test_3 = (targets_test == \"3\")      # array of booleans shape :(14000,)\n"
   ]
  },
  {
   "cell_type": "code",
   "execution_count": 6,
   "id": "81c43221",
   "metadata": {
    "scrolled": true
   },
   "outputs": [
    {
     "data": {
      "text/plain": [
       "SGDClassifier(random_state=1)"
      ]
     },
     "execution_count": 6,
     "metadata": {},
     "output_type": "execute_result"
    }
   ],
   "source": [
    "# Fitting the classifier\n",
    "clf = SGDClassifier(random_state=1)\n",
    "clf.fit(data_train, targets_train_3)"
   ]
  },
  {
   "cell_type": "code",
   "execution_count": 59,
   "id": "553bf31d",
   "metadata": {},
   "outputs": [
    {
     "name": "stdout",
     "output_type": "stream",
     "text": [
      "index zero : 6   index 1 : 2   last index : 1\n"
     ]
    }
   ],
   "source": [
    "# Testing the classifier\n",
    "\n",
    "clf.predict(data_test)\n",
    "\n",
    "print(\"index zero :\" ,targets_test[0], \"  index 1 :\",targets_test[1],\"  last index :\",targets_test[13999])"
   ]
  },
  {
   "cell_type": "code",
   "execution_count": 67,
   "id": "99438035",
   "metadata": {},
   "outputs": [],
   "source": [
    "targets_train_pred = cross_val_predict(clf, data_train, targets_train_3, cv=3)\n",
    "conf_matrix=confusion_matrix(targets_train_3, targets_train_pred)"
   ]
  },
  {
   "cell_type": "code",
   "execution_count": 68,
   "id": "8cc13df1",
   "metadata": {},
   "outputs": [
    {
     "data": {
      "text/plain": [
       "array(['6', '2', '3', ..., '4', '3', '1'], dtype='<U1')"
      ]
     },
     "execution_count": 68,
     "metadata": {},
     "output_type": "execute_result"
    }
   ],
   "source": [
    "# Multiclass classification(classify the 10 digits)\n",
    "clf.fit(data_train, targets_train)\n",
    "clf.predict(data_test)\n"
   ]
  },
  {
   "cell_type": "code",
   "execution_count": 77,
   "id": "1d96a00f",
   "metadata": {},
   "outputs": [
    {
     "name": "stdout",
     "output_type": "stream",
     "text": [
      "index zero : AxesImage(54,36;334.8x217.44)\n"
     ]
    },
    {
     "data": {
      "image/png": "[encoded data removed]",
      "text/plain": [
       "<Figure size 432x288 with 1 Axes>"
      ]
     },
     "metadata": {
      "needs_background": "light"
     },
     "output_type": "display_data"
    }
   ],
   "source": [
    "print(\"index zero :\" ,plt.imshow(data_test[0].reshape(28,28),))"
   ]
  },
  {
   "cell_type": "code",
   "execution_count": 78,
   "id": "4582ea3e",
   "metadata": {},
   "outputs": [
    {
     "data": {
      "image/png": "[encoded data removed]",
      "text/plain": [
       "<Figure size 360x360 with 1 Axes>"
      ]
     },
     "metadata": {
      "needs_background": "light"
     },
     "output_type": "display_data"
    }
   ],
   "source": [
    "fig, ax = plt.subplots(figsize=(5,5))\n",
    "ax.matshow(conf_matrix)\n",
    "for i in range(conf_matrix.shape[0]):\n",
    "    for j in range(conf_matrix.shape[1]):\n",
    "        ax.text(x=j, y=i,s=conf_matrix[i, j])\n",
    " \n",
    "plt.xlabel('Predictions', fontsize=18)\n",
    "plt.ylabel('Actuals', fontsize=18)\n",
    "plt.title('Confusion Matrix', fontsize=18)\n",
    "plt.show()"
   ]
  },
  {
   "cell_type": "code",
   "execution_count": 85,
   "id": "228e563b",
   "metadata": {},
   "outputs": [],
   "source": [
    "TN=conf_matrix[0][0]  # 49339\n",
    "FP=conf_matrix[0][1]  # 951\n",
    "FN=conf_matrix[1][0]  # 1208\n",
    "TP=conf_matrix[1][1]  # 4502"
   ]
  }
 ],
 "metadata": {
  "kernelspec": {
   "display_name": "Python 3 (ipykernel)",
   "language": "python",
   "name": "python3"
  },
  "language_info": {
   "codemirror_mode": {
    "name": "ipython",
    "version": 3
   },
   "file_extension": ".py",
   "mimetype": "text/x-python",
   "name": "python",
   "nbconvert_exporter": "python",
   "pygments_lexer": "ipython3",
   "version": "3.8.8"
  }
 },
 "nbformat": 4,
 "nbformat_minor": 5
}
